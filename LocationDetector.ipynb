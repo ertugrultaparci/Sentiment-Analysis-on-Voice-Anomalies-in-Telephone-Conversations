{
 "cells": [
  {
   "cell_type": "code",
   "execution_count": 1,
   "id": "596f9903",
   "metadata": {},
   "outputs": [],
   "source": [
    "#pip install phonenumbers"
   ]
  },
  {
   "cell_type": "code",
   "execution_count": 2,
   "id": "2f3de4b9",
   "metadata": {},
   "outputs": [],
   "source": [
    "import phonenumbers\n",
    "from phonenumbers import geocoder\n",
    "from phonenumbers import carrier"
   ]
  },
  {
   "cell_type": "code",
   "execution_count": 3,
   "id": "212385bc",
   "metadata": {},
   "outputs": [
    {
     "name": "stdout",
     "output_type": "stream",
     "text": [
      "Country Code: 90 National Number: 5468584424\n",
      "Turkey\n",
      "Vodafone\n",
      "Dharampuri, Madhya Pradesh\n"
     ]
    }
   ],
   "source": [
    "phone_number1=phonenumbers.parse(\"+905468584424\")\n",
    "print(phone_number1)\n",
    "print(geocoder.description_for_number(phone_number1, \"en\"))\n",
    "print(carrier.name_for_number(phone_number1, \"en\"))\n",
    "phone_number2=phonenumbers.parse(\"+917294536271\")\n",
    "yourLocation = geocoder.description_for_number(phone_number1, \"en\")\n",
    "print(geocoder.description_for_number(phone_number2, \"en\"))"
   ]
  },
  {
   "cell_type": "code",
   "execution_count": 4,
   "id": "07162c48",
   "metadata": {},
   "outputs": [],
   "source": [
    "Key = '..'"
   ]
  },
  {
   "cell_type": "code",
   "execution_count": 5,
   "id": "a17d80f2",
   "metadata": {},
   "outputs": [],
   "source": [
    "#pip install opencage.geocoder"
   ]
  },
  {
   "cell_type": "code",
   "execution_count": 6,
   "id": "0f29b622",
   "metadata": {},
   "outputs": [],
   "source": [
    "from opencage.geocoder import OpenCageGeocode\n",
    "geocoder = OpenCageGeocode(Key)"
   ]
  },
  {
   "cell_type": "code",
   "execution_count": 7,
   "id": "652aa06b",
   "metadata": {},
   "outputs": [],
   "source": [
    "query = str(yourLocation)"
   ]
  },
  {
   "cell_type": "code",
   "execution_count": 8,
   "id": "2754e72b",
   "metadata": {},
   "outputs": [],
   "source": [
    "results = geocoder.geocode(query)"
   ]
  },
  {
   "cell_type": "code",
   "execution_count": 9,
   "id": "a5fd66ff",
   "metadata": {},
   "outputs": [
    {
     "name": "stdout",
     "output_type": "stream",
     "text": [
      "[{'annotations': {'DMS': {'lat': \"38° 57' 35.13384'' N\", 'lng': \"34° 55' 29.87508'' E\"}, 'MGRS': '36SXJ6678714073', 'Maidenhead': 'KM78lx00xi', 'Mercator': {'x': 3887829.353, 'y': 4689038.162}, 'OSM': {'edit_url': 'https://www.openstreetmap.org/edit?relation=174737#map=17/38.95976/34.92497', 'note_url': 'https://www.openstreetmap.org/note/new#map=17/38.95976/34.92497&layers=N', 'url': 'https://www.openstreetmap.org/?mlat=38.95976&mlon=34.92497#map=17/38.95976/34.92497'}, 'UN_M49': {'regions': {'ASIA': '142', 'TR': '792', 'WESTERN_ASIA': '145', 'WORLD': '001'}, 'statistical_groupings': ['LEDC']}, 'callingcode': 90, 'currency': {'alternate_symbols': ['TL'], 'decimal_mark': ',', 'html_entity': '&#8378;', 'iso_code': 'TRY', 'iso_numeric': '949', 'name': 'Turkish Lira', 'smallest_denomination': 1, 'subunit': 'kuruş', 'subunit_to_unit': 100, 'symbol': '₺', 'symbol_first': 1, 'thousands_separator': '.'}, 'flag': '🇹🇷', 'geohash': 'sybvdsrt49t9k4g1ehtb', 'qibla': 165.11, 'roadinfo': {'drive_on': 'right', 'speed_in': 'km/h'}, 'sun': {'rise': {'apparent': 1641704400, 'astronomical': 1641698700, 'civil': 1641702600, 'nautical': 1641700620}, 'set': {'apparent': 1641738900, 'astronomical': 1641744600, 'civil': 1641740640, 'nautical': 1641742680}}, 'timezone': {'name': 'Europe/Istanbul', 'now_in_dst': 0, 'offset_sec': 10800, 'offset_string': '+0300', 'short_name': '+03'}, 'what3words': {'words': 'advertised.overuse.blazingly'}, 'wikidata': 'Q43'}, 'bounds': {'northeast': {'lat': 42.297, 'lng': 44.8176638}, 'southwest': {'lat': 35.8076804, 'lng': 25.5656305}}, 'components': {'ISO_3166-1_alpha-2': 'TR', 'ISO_3166-1_alpha-3': 'TUR', '_category': 'place', '_type': 'country', 'continent': 'Asia', 'country': 'Turkey', 'country_code': 'tr'}, 'confidence': 1, 'formatted': 'Turkey', 'geometry': {'lat': 38.9597594, 'lng': 34.9249653}}, {'annotations': {'DMS': {'lat': \"34° 23' 33.23004'' N\", 'lng': \"100° 53' 51.50688'' W\"}, 'FIPS': {'county': '48191', 'state': '48'}, 'MGRS': '14SLD2555507316', 'Maidenhead': 'DM94nj24gf', 'Mercator': {'x': -11231873.996, 'y': 4057500.962}, 'OSM': {'edit_url': 'https://www.openstreetmap.org/edit?relation=115354#map=17/34.39256/-100.89764', 'note_url': 'https://www.openstreetmap.org/note/new#map=17/34.39256/-100.89764&layers=N', 'url': 'https://www.openstreetmap.org/?mlat=34.39256&mlon=-100.89764#map=17/34.39256/-100.89764'}, 'UN_M49': {'regions': {'AMERICAS': '019', 'NORTHERN_AMERICA': '021', 'US': '840', 'WORLD': '001'}, 'statistical_groupings': ['MEDC']}, 'callingcode': 1, 'currency': {'alternate_symbols': ['US$'], 'decimal_mark': '.', 'disambiguate_symbol': 'US$', 'html_entity': '$', 'iso_code': 'USD', 'iso_numeric': '840', 'name': 'United States Dollar', 'smallest_denomination': 1, 'subunit': 'Cent', 'subunit_to_unit': 100, 'symbol': '$', 'symbol_first': 1, 'thousands_separator': ','}, 'flag': '🇺🇸', 'geohash': '9y078hbx4wd4fnbjfxbf', 'qibla': 39.76, 'roadinfo': {'drive_on': 'right', 'speed_in': 'mph'}, 'sun': {'rise': {'apparent': 1641736260, 'astronomical': 1641730980, 'civil': 1641734640, 'nautical': 1641732780}, 'set': {'apparent': 1641772260, 'astronomical': 1641691140, 'civil': 1641687480, 'nautical': 1641689340}}, 'timezone': {'name': 'America/Chicago', 'now_in_dst': 0, 'offset_sec': -21600, 'offset_string': '-0600', 'short_name': 'CST'}, 'what3words': {'words': 'swim.dodges.sung'}, 'wikidata': 'Q975535'}, 'bounds': {'northeast': {'lat': 34.402283, 'lng': -100.886109}, 'southwest': {'lat': 34.384959, 'lng': -100.901591}}, 'components': {'ISO_3166-1_alpha-2': 'US', 'ISO_3166-1_alpha-3': 'USA', '_category': 'place', '_type': 'village', 'continent': 'North America', 'country': 'United States', 'country_code': 'us', 'county': 'Hall County', 'state': 'Texas', 'state_code': 'TX', 'village': 'Turkey'}, 'confidence': 8, 'formatted': 'Turkey, Hall County, Texas, United States of America', 'geometry': {'lat': 34.3925639, 'lng': -100.8976408}}, {'annotations': {'DMS': {'lat': \"25° 13' 38.62164'' N\", 'lng': \"55° 10' 0.04080'' E\"}, 'MGRS': '40RCN1532191386', 'Maidenhead': 'LL75of04an', 'Mercator': {'x': 6141126.503, 'y': 2885495.284}, 'OSM': {'edit_url': 'https://www.openstreetmap.org/edit?relation=2696850#map=17/25.22739/55.16668', 'note_url': 'https://www.openstreetmap.org/note/new#map=17/25.22739/55.16668&layers=N', 'url': 'https://www.openstreetmap.org/?mlat=25.22739&mlon=55.16668#map=17/25.22739/55.16668'}, 'UN_M49': {'regions': {'AE': '784', 'ASIA': '142', 'WESTERN_ASIA': '145', 'WORLD': '001'}, 'statistical_groupings': ['LEDC']}, 'callingcode': 971, 'currency': {'alternate_symbols': ['DH', 'Dhs'], 'decimal_mark': '.', 'format': '%n %u', 'html_entity': '', 'iso_code': 'AED', 'iso_numeric': '784', 'name': 'United Arab Emirates Dirham', 'smallest_denomination': 25, 'subunit': 'Fils', 'subunit_to_unit': 100, 'symbol': 'د.إ', 'symbol_first': 0, 'thousands_separator': ','}, 'flag': '🇦🇪', 'geohash': 'thrpx2e0hz28d56btdhx', 'qibla': 258.03, 'roadinfo': {'drive_on': 'right', 'speed_in': 'km/h'}, 'sun': {'rise': {'apparent': 1641697620, 'astronomical': 1641692820, 'civil': 1641696180, 'nautical': 1641694440}, 'set': {'apparent': 1641735960, 'astronomical': 1641740760, 'civil': 1641737400, 'nautical': 1641739080}}, 'timezone': {'name': 'Asia/Dubai', 'now_in_dst': 0, 'offset_sec': 14400, 'offset_string': '+0400', 'short_name': '+04'}, 'what3words': {'words': 'criticality.upscale.twirls'}}, 'bounds': {'northeast': {'lat': 25.2284492, 'lng': 55.1677692}, 'southwest': {'lat': 25.226278, 'lng': 55.1659306}}, 'components': {'ISO_3166-1_alpha-2': 'AE', 'ISO_3166-1_alpha-3': 'ARE', '_category': 'road', '_type': 'road', 'continent': 'Asia', 'country': 'United Arab Emirates', 'country_code': 'ae', 'place': 'Turkey', 'state': 'Dubai', 'state_code': 'DU'}, 'confidence': 9, 'formatted': 'Turkey, Dubai, United Arab Emirates', 'geometry': {'lat': 25.2273949, 'lng': 55.166678}}, {'annotations': {'DMS': {'lat': \"34° 59' 32.59968'' N\", 'lng': \"78° 10' 58.97640'' W\"}, 'FIPS': {'county': '37163', 'state': '37'}, 'MGRS': '17SQU5711075825', 'Maidenhead': 'FM04vx88ae', 'Mercator': {'x': -8703297.203, 'y': 4138343.135}, 'OSM': {'edit_url': 'https://www.openstreetmap.org/edit?relation=178962#map=17/34.99239/-78.18305', 'note_url': 'https://www.openstreetmap.org/note/new#map=17/34.99239/-78.18305&layers=N', 'url': 'https://www.openstreetmap.org/?mlat=34.99239&mlon=-78.18305#map=17/34.99239/-78.18305'}, 'UN_M49': {'regions': {'AMERICAS': '019', 'NORTHERN_AMERICA': '021', 'US': '840', 'WORLD': '001'}, 'statistical_groupings': ['MEDC']}, 'callingcode': 1, 'currency': {'alternate_symbols': ['US$'], 'decimal_mark': '.', 'disambiguate_symbol': 'US$', 'html_entity': '$', 'iso_code': 'USD', 'iso_numeric': '840', 'name': 'United States Dollar', 'smallest_denomination': 1, 'subunit': 'Cent', 'subunit_to_unit': 100, 'symbol': '$', 'symbol_first': 1, 'thousands_separator': ','}, 'flag': '🇺🇸', 'geohash': 'dq0rhfhv6yj3cgc2zbxk', 'qibla': 56.21, 'roadinfo': {'drive_on': 'right', 'speed_in': 'mph'}, 'sun': {'rise': {'apparent': 1641730920, 'astronomical': 1641725580, 'civil': 1641729240, 'nautical': 1641727380}, 'set': {'apparent': 1641766680, 'astronomical': 1641772080, 'civil': 1641768360, 'nautical': 1641770220}}, 'timezone': {'name': 'America/New_York', 'now_in_dst': 0, 'offset_sec': -18000, 'offset_string': '-0500', 'short_name': 'EST'}, 'what3words': {'words': 'buggy.examiners.balancing'}, 'wikidata': 'Q2024092'}, 'bounds': {'northeast': {'lat': 35.0034028, 'lng': -78.173793}, 'southwest': {'lat': 34.9882857, 'lng': -78.191587}}, 'components': {'ISO_3166-1_alpha-2': 'US', 'ISO_3166-1_alpha-3': 'USA', '_category': 'place', '_type': 'village', 'continent': 'North America', 'country': 'United States', 'country_code': 'us', 'county': 'Sampson County', 'state': 'North Carolina', 'state_code': 'NC', 'village': 'Turkey'}, 'confidence': 8, 'formatted': 'Turkey, Sampson County, North Carolina, United States of America', 'geometry': {'lat': 34.9923888, 'lng': -78.183049}}, {'annotations': {'DMS': {'lat': \"36° 14' 40.25400'' N\", 'lng': \"92° 45' 49.60188'' W\"}, 'FIPS': {'county': '05089', 'state': '05'}, 'MGRS': '15SWA2122411095', 'Maidenhead': 'EM36of88iq', 'Mercator': {'x': -10326416.564, 'y': 4309054.661}, 'OSM': {'edit_url': 'https://www.openstreetmap.org/edit?node=151425040#map=17/36.24451/-92.76378', 'note_url': 'https://www.openstreetmap.org/note/new#map=17/36.24451/-92.76378&layers=N', 'url': 'https://www.openstreetmap.org/?mlat=36.24451&mlon=-92.76378#map=17/36.24451/-92.76378'}, 'UN_M49': {'regions': {'AMERICAS': '019', 'NORTHERN_AMERICA': '021', 'US': '840', 'WORLD': '001'}, 'statistical_groupings': ['MEDC']}, 'callingcode': 1, 'currency': {'alternate_symbols': ['US$'], 'decimal_mark': '.', 'disambiguate_symbol': 'US$', 'html_entity': '$', 'iso_code': 'USD', 'iso_numeric': '840', 'name': 'United States Dollar', 'smallest_denomination': 1, 'subunit': 'Cent', 'subunit_to_unit': 100, 'symbol': '$', 'symbol_first': 1, 'thousands_separator': ','}, 'flag': '🇺🇸', 'geohash': '9yqn1n57x73994c7w45d', 'qibla': 45.78, 'roadinfo': {'drive_on': 'right', 'speed_in': 'mph'}, 'sun': {'rise': {'apparent': 1641734580, 'astronomical': 1641729180, 'civil': 1641732900, 'nautical': 1641730980}, 'set': {'apparent': 1641770040, 'astronomical': 1641689040, 'civil': 1641771720, 'nautical': 1641687240}}, 'timezone': {'name': 'America/Chicago', 'now_in_dst': 0, 'offset_sec': -21600, 'offset_string': '-0600', 'short_name': 'CST'}, 'what3words': {'words': 'underrated.went.interactions'}}, 'bounds': {'northeast': {'lat': 36.264515, 'lng': -92.7437783}, 'southwest': {'lat': 36.224515, 'lng': -92.7837783}}, 'components': {'ISO_3166-1_alpha-2': 'US', 'ISO_3166-1_alpha-3': 'USA', '_category': 'place', '_type': 'hamlet', 'continent': 'North America', 'country': 'United States', 'country_code': 'us', 'county': 'Marion County', 'hamlet': 'Turkey', 'state': 'Arkansas', 'state_code': 'AR'}, 'confidence': 7, 'formatted': 'Turkey, Marion County, Arkansas, United States of America', 'geometry': {'lat': 36.244515, 'lng': -92.7637783}}, {'annotations': {'DMS': {'lat': \"37° 38' 25.40292'' N\", 'lng': \"81° 34' 41.38716'' W\"}, 'FIPS': {'county': '54109', 'state': '54'}, 'MGRS': '17SMB4899166073', 'Maidenhead': 'EM97fp03oq', 'Mercator': {'x': -9081239.576, 'y': 4502651.403}, 'OSM': {'edit_url': 'https://www.openstreetmap.org/edit?node=154200857#map=17/37.64039/-81.57816', 'note_url': 'https://www.openstreetmap.org/note/new#map=17/37.64039/-81.57816&layers=N', 'url': 'https://www.openstreetmap.org/?mlat=37.64039&mlon=-81.57816#map=17/37.64039/-81.57816'}, 'UN_M49': {'regions': {'AMERICAS': '019', 'NORTHERN_AMERICA': '021', 'US': '840', 'WORLD': '001'}, 'statistical_groupings': ['MEDC']}, 'callingcode': 1, 'currency': {'alternate_symbols': ['US$'], 'decimal_mark': '.', 'disambiguate_symbol': 'US$', 'html_entity': '$', 'iso_code': 'USD', 'iso_numeric': '840', 'name': 'United States Dollar', 'smallest_denomination': 1, 'subunit': 'Cent', 'subunit_to_unit': 100, 'symbol': '$', 'symbol_first': 1, 'thousands_separator': ','}, 'flag': '🇺🇸', 'geohash': 'dntypshx5j0wxbkn3ruz', 'qibla': 53.62, 'roadinfo': {'drive_on': 'right', 'speed_in': 'mph'}, 'sun': {'rise': {'apparent': 1641732120, 'astronomical': 1641726600, 'civil': 1641730380, 'nautical': 1641728460}, 'set': {'apparent': 1641767100, 'astronomical': 1641772680, 'civil': 1641768840, 'nautical': 1641770760}}, 'timezone': {'name': 'America/New_York', 'now_in_dst': 0, 'offset_sec': -18000, 'offset_string': '-0500', 'short_name': 'EST'}, 'what3words': {'words': 'traces.boil.primaries'}}, 'bounds': {'northeast': {'lat': 37.6603897, 'lng': -81.5581631}, 'southwest': {'lat': 37.6203897, 'lng': -81.5981631}}, 'components': {'ISO_3166-1_alpha-2': 'US', 'ISO_3166-1_alpha-3': 'USA', '_category': 'place', '_type': 'hamlet', 'continent': 'North America', 'country': 'United States', 'country_code': 'us', 'county': 'Wyoming County', 'hamlet': 'Turkey', 'postcode': '24860', 'state': 'West Virginia', 'state_code': 'WV'}, 'confidence': 7, 'formatted': 'Turkey, Wyoming County, WV 24860, United States of America', 'geometry': {'lat': 37.6403897, 'lng': -81.5781631}}, {'annotations': {'DMS': {'lat': \"37° 28' 45.32124'' N\", 'lng': \"83° 30' 27.66384'' W\"}, 'FIPS': {'county': '21025', 'state': '21'}, 'MGRS': '17SKB7826550993', 'Maidenhead': 'EM87fl95ba', 'Mercator': {'x': -9296032.905, 'y': 4480119.159}, 'OSM': {'edit_url': 'https://www.openstreetmap.org/edit?node=154088247#map=17/37.47926/-83.50768', 'note_url': 'https://www.openstreetmap.org/note/new#map=17/37.47926/-83.50768&layers=N', 'url': 'https://www.openstreetmap.org/?mlat=37.47926&mlon=-83.50768#map=17/37.47926/-83.50768'}, 'UN_M49': {'regions': {'AMERICAS': '019', 'NORTHERN_AMERICA': '021', 'US': '840', 'WORLD': '001'}, 'statistical_groupings': ['MEDC']}, 'callingcode': 1, 'currency': {'alternate_symbols': ['US$'], 'decimal_mark': '.', 'disambiguate_symbol': 'US$', 'html_entity': '$', 'iso_code': 'USD', 'iso_numeric': '840', 'name': 'United States Dollar', 'smallest_denomination': 1, 'subunit': 'Cent', 'subunit_to_unit': 100, 'symbol': '$', 'symbol_first': 1, 'thousands_separator': ','}, 'flag': '🇺🇸', 'geohash': 'dnst5wzs3ztmuqd5y131', 'qibla': 52.3, 'roadinfo': {'drive_on': 'right', 'speed_in': 'mph'}, 'sun': {'rise': {'apparent': 1641732600, 'astronomical': 1641727020, 'civil': 1641730860, 'nautical': 1641728940}, 'set': {'apparent': 1641767580, 'astronomical': 1641686760, 'civil': 1641769320, 'nautical': 1641771240}}, 'timezone': {'name': 'America/New_York', 'now_in_dst': 0, 'offset_sec': -18000, 'offset_string': '-0500', 'short_name': 'EST'}, 'what3words': {'words': 'steaming.perfected.radical'}, 'wikidata': 'Q7855035'}, 'bounds': {'northeast': {'lat': 37.4992559, 'lng': -83.4876844}, 'southwest': {'lat': 37.4592559, 'lng': -83.5276844}}, 'components': {'ISO_3166-1_alpha-2': 'US', 'ISO_3166-1_alpha-3': 'USA', '_category': 'place', '_type': 'hamlet', 'continent': 'North America', 'country': 'United States', 'country_code': 'us', 'county': 'Breathitt County', 'hamlet': 'Turkey', 'state': 'Kentucky', 'state_code': 'KY'}, 'confidence': 7, 'formatted': 'Turkey, Breathitt County, Kentucky, United States of America', 'geometry': {'lat': 37.4792559, 'lng': -83.5076844}}, {'annotations': {'DMS': {'lat': \"14° 29' 15.90396'' N\", 'lng': \"121° 1' 20.96292'' E\"}, 'MGRS': '51PTS8686702590', 'Maidenhead': 'PK04ml27qb', 'Mercator': {'x': 13472161.928, 'y': 1619551.806}, 'OSM': {'edit_url': 'https://www.openstreetmap.org/edit?way=28068848#map=17/14.48775/121.02249', 'note_url': 'https://www.openstreetmap.org/note/new#map=17/14.48775/121.02249&layers=N', 'url': 'https://www.openstreetmap.org/?mlat=14.48775&mlon=121.02249#map=17/14.48775/121.02249'}, 'UN_M49': {'regions': {'ASIA': '142', 'PH': '608', 'SOUTHEAST_ASIA': '035', 'WORLD': '001'}, 'statistical_groupings': ['LEDC']}, 'callingcode': 63, 'currency': {'alternate_symbols': ['PHP', 'PhP', 'P'], 'decimal_mark': '.', 'html_entity': '&#x20B1;', 'iso_code': 'PHP', 'iso_numeric': '608', 'name': 'Philippine Peso', 'smallest_denomination': 1, 'subunit': 'Centavo', 'subunit_to_unit': 100, 'symbol': '₱', 'symbol_first': 1, 'thousands_separator': ','}, 'flag': '🇵🇭', 'geohash': 'wdw43vmvk2sct5z7ygmr', 'qibla': 289.07, 'roadinfo': {'drive_on': 'right', 'road': 'Turkey', 'road_type': 'residential', 'speed_in': 'km/h'}, 'sun': {'rise': {'apparent': 1641767040, 'astronomical': 1641762480, 'civil': 1641765660, 'nautical': 1641764100}, 'set': {'apparent': 1641721320, 'astronomical': 1641725820, 'civil': 1641722700, 'nautical': 1641724260}}, 'timezone': {'name': 'Asia/Manila', 'now_in_dst': 0, 'offset_sec': 28800, 'offset_string': '+0800', 'short_name': 'PST'}, 'what3words': {'words': 'digital.surface.solution'}}, 'bounds': {'northeast': {'lat': 14.4879145, 'lng': 121.0240597}, 'southwest': {'lat': 14.4868084, 'lng': 121.0209585}}, 'components': {'ISO_3166-1_alpha-2': 'PH', 'ISO_3166-1_alpha-3': 'PHL', '_category': 'road', '_type': 'road', 'city': 'Parañaque', 'continent': 'Asia', 'country': 'Philippines', 'country_code': 'ph', 'neighbourhood': 'Eastern 7 Village', 'postcode': '1711', 'region': 'Metro Manila', 'road': 'Turkey', 'road_type': 'residential', 'state_district': 'Southern Manila District'}, 'confidence': 9, 'formatted': 'Turkey, Parañaque, 1711, Philippines', 'geometry': {'lat': 14.4877511, 'lng': 121.0224897}}, {'annotations': {'DMS': {'lat': \"29° 40' 56.31096'' N\", 'lng': \"81° 53' 44.15172'' W\"}, 'FIPS': {'county': '12107', 'state': '12'}, 'MGRS': '17RMN1334683918', 'Maidenhead': 'EL99bq23ms', 'Mercator': {'x': -9116576.234, 'y': 3441623.533}, 'OSM': {'edit_url': 'https://www.openstreetmap.org/edit?way=11275372#map=17/29.68231/-81.89560', 'note_url': 'https://www.openstreetmap.org/note/new#map=17/29.68231/-81.89560&layers=N', 'url': 'https://www.openstreetmap.org/?mlat=29.68231&mlon=-81.89560#map=17/29.68231/-81.89560'}, 'UN_M49': {'regions': {'AMERICAS': '019', 'NORTHERN_AMERICA': '021', 'US': '840', 'WORLD': '001'}, 'statistical_groupings': ['MEDC']}, 'callingcode': 1, 'currency': {'alternate_symbols': ['US$'], 'decimal_mark': '.', 'disambiguate_symbol': 'US$', 'html_entity': '$', 'iso_code': 'USD', 'iso_numeric': '840', 'name': 'United States Dollar', 'smallest_denomination': 1, 'subunit': 'Cent', 'subunit_to_unit': 100, 'symbol': '$', 'symbol_first': 1, 'thousands_separator': ','}, 'flag': '🇺🇸', 'geohash': 'djmbb7mryr27ek9rbe9k', 'qibla': 54.75, 'roadinfo': {'drive_on': 'right', 'road': 'Turkey', 'road_type': 'residential', 'speed_in': 'mph'}, 'sun': {'rise': {'apparent': 1641731100, 'astronomical': 1641726060, 'civil': 1641729540, 'nautical': 1641727740}, 'set': {'apparent': 1641768300, 'astronomical': 1641686940, 'civil': 1641769860, 'nautical': 1641771600}}, 'timezone': {'name': 'America/New_York', 'now_in_dst': 0, 'offset_sec': -18000, 'offset_string': '-0500', 'short_name': 'EST'}, 'what3words': {'words': 'frontline.toads.spouse'}}, 'bounds': {'northeast': {'lat': 29.6832069, 'lng': -81.8942263}, 'southwest': {'lat': 29.6808256, 'lng': -81.896208}}, 'components': {'ISO_3166-1_alpha-2': 'US', 'ISO_3166-1_alpha-3': 'USA', '_category': 'road', '_type': 'road', 'continent': 'North America', 'country': 'United States', 'country_code': 'us', 'county': 'Putnam County', 'road': 'Turkey', 'road_type': 'residential', 'state': 'Florida', 'state_code': 'FL'}, 'confidence': 9, 'formatted': 'Turkey, Putnam County, FL, United States of America', 'geometry': {'lat': 29.6823086, 'lng': -81.8955977}}]\n"
     ]
    }
   ],
   "source": [
    "print(results)"
   ]
  },
  {
   "cell_type": "code",
   "execution_count": 10,
   "id": "78216c9d",
   "metadata": {},
   "outputs": [],
   "source": [
    "lat = results[0]['geometry']['lat']\n",
    "lng = results[0]['geometry']['lng']"
   ]
  },
  {
   "cell_type": "code",
   "execution_count": 11,
   "id": "0e34d233",
   "metadata": {},
   "outputs": [
    {
     "name": "stdout",
     "output_type": "stream",
     "text": [
      "38.9597594 34.9249653\n"
     ]
    }
   ],
   "source": [
    "print(lat,lng)"
   ]
  }
 ],
 "metadata": {
  "kernelspec": {
   "display_name": "Python 3 (ipykernel)",
   "language": "python",
   "name": "python3"
  },
  "language_info": {
   "codemirror_mode": {
    "name": "ipython",
    "version": 3
   },
   "file_extension": ".py",
   "mimetype": "text/x-python",
   "name": "python",
   "nbconvert_exporter": "python",
   "pygments_lexer": "ipython3",
   "version": "3.9.7"
  }
 },
 "nbformat": 4,
 "nbformat_minor": 5
}
